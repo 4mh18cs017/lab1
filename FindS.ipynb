{
 "cells": [
  {
   "cell_type": "code",
   "execution_count": 3,
   "metadata": {},
   "outputs": [
    {
     "name": "stdout",
     "output_type": "stream",
     "text": [
      "Initial Hypothesis: ['0', '0', '0', '0', '0', '0', '0']\n",
      "Data:\n",
      "['Day', 'Sky', 'AirTemp', 'Humidity', 'Wind', 'Water', 'Forecast', 'Enjoy']\n",
      "['1', 'Sunny', 'warm', 'normal', 'strong', 'warm', 'same', 'yes']\n",
      "['2', 'Sunny', 'warm', 'high', 'strong', 'warm', 'same', 'yes']\n",
      "['3', 'Rainy', 'cold', 'high', 'strong', 'warm', 'change', 'no']\n",
      "['4', 'Sunny', 'warm', 'high', 'strong', 'cool', 'change', 'yes']\n",
      "Final Hypothesis(Mopst specific): ['?', 'Sunny', 'warm', '?', 'strong', '?', '?']\n"
     ]
    }
   ],
   "source": [
    "import csv\n",
    "file=open('lab1.csv')\n",
    "data=list(csv.reader(file))\n",
    "length=len(data[0])-1\n",
    "h=['0']*length\n",
    "print(\"Initial Hypothesis:\",h)\n",
    "print('Data:')\n",
    "for i in data:\n",
    "    print(i)\n",
    "data.pop(0)\n",
    "for i in range(len(data)):\n",
    "    if data[i][length]=='yes':\n",
    "        for j in range(len(data[i])-1):\n",
    "            if h[j]=='0':\n",
    "                    h[j]=data[i][j]\n",
    "            if h[j]!=data[i][j]:\n",
    "                    h[j]='?'\n",
    "print(\"Final Hypothesis(Mopst specific):\",h)"
   ]
  },
  {
   "cell_type": "code",
   "execution_count": null,
   "metadata": {},
   "outputs": [],
   "source": []
  }
 ],
 "metadata": {
  "kernelspec": {
   "display_name": "Python 3",
   "language": "python",
   "name": "python3"
  },
  "language_info": {
   "codemirror_mode": {
    "name": "ipython",
    "version": 3
   },
   "file_extension": ".py",
   "mimetype": "text/x-python",
   "name": "python",
   "nbconvert_exporter": "python",
   "pygments_lexer": "ipython3",
   "version": "3.5.6"
  }
 },
 "nbformat": 4,
 "nbformat_minor": 2
}
